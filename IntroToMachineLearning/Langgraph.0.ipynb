{
 "cells": [
  {
   "cell_type": "code",
   "execution_count": null,
   "metadata": {
    "dotnet_interactive": {
     "language": "csharp"
    },
    "polyglot_notebook": {
     "kernelName": "csharp"
    }
   },
   "outputs": [
    {
     "name": "stdout",
     "output_type": "stream",
     "text": [
      "Annotations:\n",
      "messages: typing.Annotated[list, <function _add_messages_wrapper.<locals>._add_messages at 0x10775b060>]\n",
      "/Users/tatianaracheva/Documents/LearningPython/IntroToMachineLearning\n",
      "/Users/tatianaracheva/Documents/LearningPython/IntroToMachineLearning\n"
     ]
    },
    {
     "ename": "ModuleNotFoundError",
     "evalue": "No module named 'state'",
     "output_type": "error",
     "traceback": [
      "\u001b[0;31m---------------------------------------------------------------------------\u001b[0m",
      "\u001b[0;31mModuleNotFoundError\u001b[0m                       Traceback (most recent call last)",
      "Cell \u001b[0;32mIn[1], line 1\u001b[0m\n\u001b[0;32m----> 1\u001b[0m \u001b[38;5;28;01mfrom\u001b[39;00m\u001b[38;5;250m \u001b[39m\u001b[38;5;21;01mquickstart\u001b[39;00m\u001b[38;5;250m \u001b[39m\u001b[38;5;28;01mimport\u001b[39;00m graph\n\u001b[1;32m      3\u001b[0m \u001b[38;5;28;01mfrom\u001b[39;00m\u001b[38;5;250m \u001b[39m\u001b[38;5;21;01mIPython\u001b[39;00m\u001b[38;5;21;01m.\u001b[39;00m\u001b[38;5;21;01mdisplay\u001b[39;00m\u001b[38;5;250m \u001b[39m\u001b[38;5;28;01mimport\u001b[39;00m Image, display\n\u001b[1;32m      5\u001b[0m \u001b[38;5;28;01mtry\u001b[39;00m:\n",
      "File \u001b[0;32m~/Documents/LearningPython/IntroToMachineLearning/quickstart/__init__.py:1\u001b[0m\n\u001b[0;32m----> 1\u001b[0m \u001b[38;5;28;01mfrom\u001b[39;00m\u001b[38;5;250m \u001b[39m\u001b[38;5;21;01mquickstart\u001b[39;00m\u001b[38;5;21;01m.\u001b[39;00m\u001b[38;5;21;01msimple_bot\u001b[39;00m\u001b[38;5;250m \u001b[39m\u001b[38;5;28;01mimport\u001b[39;00m graph\n\u001b[1;32m      3\u001b[0m __all__ \u001b[38;5;241m=\u001b[39m [ \u001b[38;5;124m\"\u001b[39m\u001b[38;5;124mgraph\u001b[39m\u001b[38;5;124m\"\u001b[39m ]\n",
      "File \u001b[0;32m~/Documents/LearningPython/IntroToMachineLearning/quickstart/simple_bot.py:75\u001b[0m\n\u001b[1;32m     68\u001b[0m chatbot_function \u001b[38;5;241m=\u001b[39m anthropic_chatbot\n\u001b[1;32m     70\u001b[0m graph_builder\u001b[38;5;241m.\u001b[39madd_node(\n\u001b[1;32m     71\u001b[0m     chatbot_node_name,\n\u001b[1;32m     72\u001b[0m     chatbot_function\n\u001b[1;32m     73\u001b[0m )\n\u001b[0;32m---> 75\u001b[0m \u001b[38;5;28;01mfrom\u001b[39;00m\u001b[38;5;250m \u001b[39m\u001b[38;5;21;01mquickstart\u001b[39;00m\u001b[38;5;21;01m.\u001b[39;00m\u001b[38;5;21;01mbasic_tool_node\u001b[39;00m\u001b[38;5;250m \u001b[39m\u001b[38;5;28;01mimport\u001b[39;00m (\n\u001b[1;32m     76\u001b[0m     BasicToolNode,\n\u001b[1;32m     77\u001b[0m     TOOLS_NODE_NAME,\n\u001b[1;32m     78\u001b[0m     route_tools\n\u001b[1;32m     79\u001b[0m )\n\u001b[1;32m     81\u001b[0m graph_builder\u001b[38;5;241m.\u001b[39madd_node(TOOLS_NODE_NAME, BasicToolNode(tools))\n\u001b[1;32m     82\u001b[0m graph_builder\u001b[38;5;241m.\u001b[39madd_conditional_edges(\n\u001b[1;32m     83\u001b[0m     chatbot_node_name,\n\u001b[1;32m     84\u001b[0m     route_tools,\n\u001b[0;32m   (...)\u001b[0m\n\u001b[1;32m     88\u001b[0m     }\n\u001b[1;32m     89\u001b[0m )\n",
      "File \u001b[0;32m~/Documents/LearningPython/IntroToMachineLearning/quickstart/basic_tool_node.py:38\u001b[0m\n\u001b[1;32m     35\u001b[0m         \u001b[38;5;28;01melse\u001b[39;00m:\n\u001b[1;32m     36\u001b[0m             \u001b[38;5;28;01mraise\u001b[39;00m \u001b[38;5;167;01mValueError\u001b[39;00m(\u001b[38;5;124m\"\u001b[39m\u001b[38;5;124mNo messages found in input\u001b[39m\u001b[38;5;124m\"\u001b[39m)\n\u001b[0;32m---> 38\u001b[0m \u001b[38;5;28;01mfrom\u001b[39;00m\u001b[38;5;250m \u001b[39m\u001b[38;5;21;01mstate\u001b[39;00m\u001b[38;5;250m \u001b[39m\u001b[38;5;28;01mimport\u001b[39;00m State\n\u001b[1;32m     39\u001b[0m \u001b[38;5;28;01mdef\u001b[39;00m\u001b[38;5;250m \u001b[39m\u001b[38;5;21mroute_tools\u001b[39m(state: State) \u001b[38;5;241m-\u001b[39m\u001b[38;5;241m>\u001b[39m \u001b[38;5;28mstr\u001b[39m:\n\u001b[1;32m     40\u001b[0m \u001b[38;5;250m    \u001b[39m\u001b[38;5;124;03m\"\"\"\u001b[39;00m\n\u001b[1;32m     41\u001b[0m \u001b[38;5;124;03m    Use in the conditional_edge to route to the ToolNode if the\u001b[39;00m\n\u001b[1;32m     42\u001b[0m \u001b[38;5;124;03m    last message has tool calls. Otherwise, route to the end.\u001b[39;00m\n\u001b[1;32m     43\u001b[0m \u001b[38;5;124;03m    \"\"\"\u001b[39;00m\n",
      "\u001b[0;31mModuleNotFoundError\u001b[0m: No module named 'state'"
     ]
    }
   ],
   "source": [
    "import sys\n",
    "import os\n",
    "\n",
    "sys.path.append(os.path.abspath(\".\"))\n",
    "\n",
    "from quickstart import graph\n",
    "\n",
    "from IPython.display import Image, display\n",
    "\n",
    "try:\n",
    "    display(Image(graph.get_graph().draw_mermaid_png()))\n",
    "except Exception as e:\n",
    "    print(f\"Error: {e}\")"
   ]
  }
 ],
 "metadata": {
  "kernelspec": {
   "display_name": ".venv",
   "language": "python",
   "name": "python3"
  },
  "language_info": {
   "codemirror_mode": {
    "name": "ipython",
    "version": 3
   },
   "file_extension": ".py",
   "mimetype": "text/x-python",
   "name": "python",
   "nbconvert_exporter": "python",
   "pygments_lexer": "ipython3",
   "version": "3.13.0"
  },
  "polyglot_notebook": {
   "kernelInfo": {
    "defaultKernelName": "csharp",
    "items": [
     {
      "aliases": [],
      "languageName": "csharp",
      "name": "csharp"
     }
    ]
   }
  }
 },
 "nbformat": 4,
 "nbformat_minor": 2
}
